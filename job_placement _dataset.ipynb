{
 "cells": [
  {
   "cell_type": "markdown",
   "id": "40044784",
   "metadata": {},
   "source": [
    "## Import Libraries"
   ]
  },
  {
   "cell_type": "code",
   "execution_count": 50,
   "id": "483e2467",
   "metadata": {},
   "outputs": [],
   "source": [
    "import numpy as np\n",
    "import pandas as pd\n",
    "\n",
    "from imblearn.over_sampling import RandomOverSampler\n",
    "\n",
    "from sklearn.model_selection import train_test_split\n",
    "\n",
    "from sklearn.linear_model import LogisticRegression, RidgeClassifier\n",
    "\n",
    "from sklearn.metrics import ConfusionMatrixDisplay, confusion_matrix\n",
    "from sklearn.metrics import classification_report, precision_score,recall_score,f1_score,accuracy_score\n",
    "from sklearn.metrics import roc_auc_score,roc_curve\n",
    "\n",
    "from sklearn.neighbors import KNeighborsClassifier\n",
    "\n",
    "import matplotlib.pyplot as plt\n",
    "import seaborn as sns\n",
    "\n",
    "import pickle \n",
    "import json\n",
    " \n",
    "import config"
   ]
  },
  {
   "cell_type": "code",
   "execution_count": 102,
   "id": "310016e2",
   "metadata": {},
   "outputs": [
    {
     "data": {
      "text/plain": [
       "'artifacts/project_data.json'"
      ]
     },
     "execution_count": 102,
     "metadata": {},
     "output_type": "execute_result"
    }
   ],
   "source": [
    "config.JSON_FILE_PATH"
   ]
  },
  {
   "cell_type": "code",
   "execution_count": 103,
   "id": "0c48c009",
   "metadata": {},
   "outputs": [
    {
     "data": {
      "text/plain": [
       "'artifacts/lasso_model.pkl'"
      ]
     },
     "execution_count": 103,
     "metadata": {},
     "output_type": "execute_result"
    }
   ],
   "source": [
    "config.LASSO_MODEL_FILE_PATH"
   ]
  },
  {
   "cell_type": "markdown",
   "id": "87135487",
   "metadata": {},
   "source": [
    "### Problem Statement"
   ]
  },
  {
   "cell_type": "raw",
   "id": "f0ed2c3b",
   "metadata": {},
   "source": [
    "This file contains different attribute of the candidates educational history and work experience. The detailed data dictionary is given below:\n",
    "\n",
    "Data Dictionary\n",
    "1. gender : Gender of the candidate\n",
    "2. ssc_percentage : Senior secondary exams percentage (10th Grade)\n",
    "3. ssc_board : Board of education for ssc exams\n",
    "4. hsc_percentage : Higher secondary exams percentage (12th Grade)\n",
    "5. hsc_borad : Board of education for hsc exams\n",
    "6. hsc_subject : Subject of study for hsc\n",
    "7. degree_percentage : Percentage of marks in undergrad degree\n",
    "8. undergrad_degree : Undergrad degree majors\n",
    "9. work_experience : Past work experience\n",
    "10. emp_test_percentage : Aptitude test percentage\n",
    "11. specialization : Postgrad degree majors - (MBA specialization)\n",
    "12. mba_percent : Percentage of marks in MBA degree\n",
    "13. status (TARGET) : Status of placement. Placed / Not Placed"
   ]
  },
  {
   "cell_type": "markdown",
   "id": "667bd8ff",
   "metadata": {},
   "source": [
    "### Data Gathering"
   ]
  },
  {
   "cell_type": "code",
   "execution_count": 51,
   "id": "7b0af170",
   "metadata": {},
   "outputs": [
    {
     "data": {
      "text/html": [
       "<div>\n",
       "<style scoped>\n",
       "    .dataframe tbody tr th:only-of-type {\n",
       "        vertical-align: middle;\n",
       "    }\n",
       "\n",
       "    .dataframe tbody tr th {\n",
       "        vertical-align: top;\n",
       "    }\n",
       "\n",
       "    .dataframe thead th {\n",
       "        text-align: right;\n",
       "    }\n",
       "</style>\n",
       "<table border=\"1\" class=\"dataframe\">\n",
       "  <thead>\n",
       "    <tr style=\"text-align: right;\">\n",
       "      <th></th>\n",
       "      <th>gender</th>\n",
       "      <th>ssc_percentage</th>\n",
       "      <th>ssc_board</th>\n",
       "      <th>hsc_percentage</th>\n",
       "      <th>hsc_board</th>\n",
       "      <th>hsc_subject</th>\n",
       "      <th>degree_percentage</th>\n",
       "      <th>undergrad_degree</th>\n",
       "      <th>work_experience</th>\n",
       "      <th>emp_test_percentage</th>\n",
       "      <th>specialisation</th>\n",
       "      <th>mba_percent</th>\n",
       "      <th>status</th>\n",
       "    </tr>\n",
       "  </thead>\n",
       "  <tbody>\n",
       "    <tr>\n",
       "      <th>0</th>\n",
       "      <td>M</td>\n",
       "      <td>67.00</td>\n",
       "      <td>Others</td>\n",
       "      <td>91.00</td>\n",
       "      <td>Others</td>\n",
       "      <td>Commerce</td>\n",
       "      <td>58.00</td>\n",
       "      <td>Sci&amp;Tech</td>\n",
       "      <td>No</td>\n",
       "      <td>55.0</td>\n",
       "      <td>Mkt&amp;HR</td>\n",
       "      <td>58.80</td>\n",
       "      <td>Placed</td>\n",
       "    </tr>\n",
       "    <tr>\n",
       "      <th>1</th>\n",
       "      <td>M</td>\n",
       "      <td>79.33</td>\n",
       "      <td>Central</td>\n",
       "      <td>78.33</td>\n",
       "      <td>Others</td>\n",
       "      <td>Science</td>\n",
       "      <td>77.48</td>\n",
       "      <td>Sci&amp;Tech</td>\n",
       "      <td>Yes</td>\n",
       "      <td>86.5</td>\n",
       "      <td>Mkt&amp;Fin</td>\n",
       "      <td>66.28</td>\n",
       "      <td>Placed</td>\n",
       "    </tr>\n",
       "    <tr>\n",
       "      <th>2</th>\n",
       "      <td>M</td>\n",
       "      <td>65.00</td>\n",
       "      <td>Central</td>\n",
       "      <td>68.00</td>\n",
       "      <td>Central</td>\n",
       "      <td>Arts</td>\n",
       "      <td>64.00</td>\n",
       "      <td>Comm&amp;Mgmt</td>\n",
       "      <td>No</td>\n",
       "      <td>75.0</td>\n",
       "      <td>Mkt&amp;Fin</td>\n",
       "      <td>57.80</td>\n",
       "      <td>Placed</td>\n",
       "    </tr>\n",
       "    <tr>\n",
       "      <th>3</th>\n",
       "      <td>M</td>\n",
       "      <td>56.00</td>\n",
       "      <td>Central</td>\n",
       "      <td>52.00</td>\n",
       "      <td>Central</td>\n",
       "      <td>Science</td>\n",
       "      <td>52.00</td>\n",
       "      <td>Sci&amp;Tech</td>\n",
       "      <td>No</td>\n",
       "      <td>66.0</td>\n",
       "      <td>Mkt&amp;HR</td>\n",
       "      <td>59.43</td>\n",
       "      <td>Not Placed</td>\n",
       "    </tr>\n",
       "    <tr>\n",
       "      <th>4</th>\n",
       "      <td>M</td>\n",
       "      <td>85.80</td>\n",
       "      <td>Central</td>\n",
       "      <td>73.60</td>\n",
       "      <td>Central</td>\n",
       "      <td>Commerce</td>\n",
       "      <td>73.30</td>\n",
       "      <td>Comm&amp;Mgmt</td>\n",
       "      <td>No</td>\n",
       "      <td>96.8</td>\n",
       "      <td>Mkt&amp;Fin</td>\n",
       "      <td>55.50</td>\n",
       "      <td>Placed</td>\n",
       "    </tr>\n",
       "    <tr>\n",
       "      <th>...</th>\n",
       "      <td>...</td>\n",
       "      <td>...</td>\n",
       "      <td>...</td>\n",
       "      <td>...</td>\n",
       "      <td>...</td>\n",
       "      <td>...</td>\n",
       "      <td>...</td>\n",
       "      <td>...</td>\n",
       "      <td>...</td>\n",
       "      <td>...</td>\n",
       "      <td>...</td>\n",
       "      <td>...</td>\n",
       "      <td>...</td>\n",
       "    </tr>\n",
       "    <tr>\n",
       "      <th>210</th>\n",
       "      <td>M</td>\n",
       "      <td>80.60</td>\n",
       "      <td>Others</td>\n",
       "      <td>82.00</td>\n",
       "      <td>Others</td>\n",
       "      <td>Commerce</td>\n",
       "      <td>77.60</td>\n",
       "      <td>Comm&amp;Mgmt</td>\n",
       "      <td>No</td>\n",
       "      <td>91.0</td>\n",
       "      <td>Mkt&amp;Fin</td>\n",
       "      <td>74.49</td>\n",
       "      <td>Placed</td>\n",
       "    </tr>\n",
       "    <tr>\n",
       "      <th>211</th>\n",
       "      <td>M</td>\n",
       "      <td>58.00</td>\n",
       "      <td>Others</td>\n",
       "      <td>60.00</td>\n",
       "      <td>Others</td>\n",
       "      <td>Science</td>\n",
       "      <td>72.00</td>\n",
       "      <td>Sci&amp;Tech</td>\n",
       "      <td>No</td>\n",
       "      <td>74.0</td>\n",
       "      <td>Mkt&amp;Fin</td>\n",
       "      <td>53.62</td>\n",
       "      <td>Placed</td>\n",
       "    </tr>\n",
       "    <tr>\n",
       "      <th>212</th>\n",
       "      <td>M</td>\n",
       "      <td>67.00</td>\n",
       "      <td>Others</td>\n",
       "      <td>67.00</td>\n",
       "      <td>Others</td>\n",
       "      <td>Commerce</td>\n",
       "      <td>73.00</td>\n",
       "      <td>Comm&amp;Mgmt</td>\n",
       "      <td>Yes</td>\n",
       "      <td>59.0</td>\n",
       "      <td>Mkt&amp;Fin</td>\n",
       "      <td>69.72</td>\n",
       "      <td>Placed</td>\n",
       "    </tr>\n",
       "    <tr>\n",
       "      <th>213</th>\n",
       "      <td>F</td>\n",
       "      <td>74.00</td>\n",
       "      <td>Others</td>\n",
       "      <td>66.00</td>\n",
       "      <td>Others</td>\n",
       "      <td>Commerce</td>\n",
       "      <td>58.00</td>\n",
       "      <td>Comm&amp;Mgmt</td>\n",
       "      <td>No</td>\n",
       "      <td>70.0</td>\n",
       "      <td>Mkt&amp;HR</td>\n",
       "      <td>60.23</td>\n",
       "      <td>Placed</td>\n",
       "    </tr>\n",
       "    <tr>\n",
       "      <th>214</th>\n",
       "      <td>M</td>\n",
       "      <td>62.00</td>\n",
       "      <td>Central</td>\n",
       "      <td>58.00</td>\n",
       "      <td>Others</td>\n",
       "      <td>Science</td>\n",
       "      <td>53.00</td>\n",
       "      <td>Comm&amp;Mgmt</td>\n",
       "      <td>No</td>\n",
       "      <td>89.0</td>\n",
       "      <td>Mkt&amp;HR</td>\n",
       "      <td>60.22</td>\n",
       "      <td>Not Placed</td>\n",
       "    </tr>\n",
       "  </tbody>\n",
       "</table>\n",
       "<p>215 rows × 13 columns</p>\n",
       "</div>"
      ],
      "text/plain": [
       "    gender  ssc_percentage ssc_board  hsc_percentage hsc_board hsc_subject  \\\n",
       "0        M           67.00    Others           91.00    Others    Commerce   \n",
       "1        M           79.33   Central           78.33    Others     Science   \n",
       "2        M           65.00   Central           68.00   Central        Arts   \n",
       "3        M           56.00   Central           52.00   Central     Science   \n",
       "4        M           85.80   Central           73.60   Central    Commerce   \n",
       "..     ...             ...       ...             ...       ...         ...   \n",
       "210      M           80.60    Others           82.00    Others    Commerce   \n",
       "211      M           58.00    Others           60.00    Others     Science   \n",
       "212      M           67.00    Others           67.00    Others    Commerce   \n",
       "213      F           74.00    Others           66.00    Others    Commerce   \n",
       "214      M           62.00   Central           58.00    Others     Science   \n",
       "\n",
       "     degree_percentage undergrad_degree work_experience  emp_test_percentage  \\\n",
       "0                58.00         Sci&Tech              No                 55.0   \n",
       "1                77.48         Sci&Tech             Yes                 86.5   \n",
       "2                64.00        Comm&Mgmt              No                 75.0   \n",
       "3                52.00         Sci&Tech              No                 66.0   \n",
       "4                73.30        Comm&Mgmt              No                 96.8   \n",
       "..                 ...              ...             ...                  ...   \n",
       "210              77.60        Comm&Mgmt              No                 91.0   \n",
       "211              72.00         Sci&Tech              No                 74.0   \n",
       "212              73.00        Comm&Mgmt             Yes                 59.0   \n",
       "213              58.00        Comm&Mgmt              No                 70.0   \n",
       "214              53.00        Comm&Mgmt              No                 89.0   \n",
       "\n",
       "    specialisation  mba_percent      status  \n",
       "0           Mkt&HR        58.80      Placed  \n",
       "1          Mkt&Fin        66.28      Placed  \n",
       "2          Mkt&Fin        57.80      Placed  \n",
       "3           Mkt&HR        59.43  Not Placed  \n",
       "4          Mkt&Fin        55.50      Placed  \n",
       "..             ...          ...         ...  \n",
       "210        Mkt&Fin        74.49      Placed  \n",
       "211        Mkt&Fin        53.62      Placed  \n",
       "212        Mkt&Fin        69.72      Placed  \n",
       "213         Mkt&HR        60.23      Placed  \n",
       "214         Mkt&HR        60.22  Not Placed  \n",
       "\n",
       "[215 rows x 13 columns]"
      ]
     },
     "execution_count": 51,
     "metadata": {},
     "output_type": "execute_result"
    }
   ],
   "source": [
    "df = pd.read_csv(\"Job_Placement_Data.csv\")\n",
    "df"
   ]
  },
  {
   "cell_type": "code",
   "execution_count": 52,
   "id": "29ebfb77",
   "metadata": {},
   "outputs": [
    {
     "data": {
      "text/plain": [
       "Placed        148\n",
       "Not Placed     67\n",
       "Name: status, dtype: int64"
      ]
     },
     "execution_count": 52,
     "metadata": {},
     "output_type": "execute_result"
    }
   ],
   "source": [
    "df[\"status\"].value_counts()"
   ]
  },
  {
   "cell_type": "code",
   "execution_count": 53,
   "id": "e18e2878",
   "metadata": {},
   "outputs": [
    {
     "data": {
      "text/plain": [
       "0.6883720930232559"
      ]
     },
     "execution_count": 53,
     "metadata": {},
     "output_type": "execute_result"
    }
   ],
   "source": [
    "148/(148+67)"
   ]
  },
  {
   "cell_type": "code",
   "execution_count": 54,
   "id": "12a28cdb",
   "metadata": {},
   "outputs": [
    {
     "data": {
      "text/plain": [
       "0.3116279069767442"
      ]
     },
     "execution_count": 54,
     "metadata": {},
     "output_type": "execute_result"
    }
   ],
   "source": [
    "67/(148 +67)"
   ]
  },
  {
   "cell_type": "code",
   "execution_count": 55,
   "id": "1fb6262a",
   "metadata": {},
   "outputs": [
    {
     "name": "stdout",
     "output_type": "stream",
     "text": [
      "<class 'pandas.core.frame.DataFrame'>\n",
      "RangeIndex: 215 entries, 0 to 214\n",
      "Data columns (total 13 columns):\n",
      " #   Column               Non-Null Count  Dtype  \n",
      "---  ------               --------------  -----  \n",
      " 0   gender               215 non-null    object \n",
      " 1   ssc_percentage       215 non-null    float64\n",
      " 2   ssc_board            215 non-null    object \n",
      " 3   hsc_percentage       215 non-null    float64\n",
      " 4   hsc_board            215 non-null    object \n",
      " 5   hsc_subject          215 non-null    object \n",
      " 6   degree_percentage    215 non-null    float64\n",
      " 7   undergrad_degree     215 non-null    object \n",
      " 8   work_experience      215 non-null    object \n",
      " 9   emp_test_percentage  215 non-null    float64\n",
      " 10  specialisation       215 non-null    object \n",
      " 11  mba_percent          215 non-null    float64\n",
      " 12  status               215 non-null    object \n",
      "dtypes: float64(5), object(8)\n",
      "memory usage: 22.0+ KB\n"
     ]
    }
   ],
   "source": [
    "df.info()"
   ]
  },
  {
   "cell_type": "code",
   "execution_count": 56,
   "id": "64ba50ad",
   "metadata": {},
   "outputs": [
    {
     "data": {
      "text/plain": [
       "{'M': 139, 'F': 76}"
      ]
     },
     "execution_count": 56,
     "metadata": {},
     "output_type": "execute_result"
    }
   ],
   "source": [
    "df[\"gender\"].value_counts().to_dict()"
   ]
  },
  {
   "cell_type": "code",
   "execution_count": 57,
   "id": "7baa6bd3",
   "metadata": {},
   "outputs": [
    {
     "data": {
      "text/plain": [
       "1    139\n",
       "0     76\n",
       "Name: gender, dtype: int64"
      ]
     },
     "execution_count": 57,
     "metadata": {},
     "output_type": "execute_result"
    }
   ],
   "source": [
    "df[\"gender\"].replace({'M': 1, 'F': 0}, inplace= True)\n",
    "df[\"gender\"].value_counts()"
   ]
  },
  {
   "cell_type": "code",
   "execution_count": 58,
   "id": "f6f2494f",
   "metadata": {},
   "outputs": [
    {
     "data": {
      "text/plain": [
       "{'Central': 116, 'Others': 99}"
      ]
     },
     "execution_count": 58,
     "metadata": {},
     "output_type": "execute_result"
    }
   ],
   "source": [
    "df[\"ssc_board\"].value_counts().to_dict()"
   ]
  },
  {
   "cell_type": "code",
   "execution_count": 59,
   "id": "258862bf",
   "metadata": {},
   "outputs": [
    {
     "data": {
      "text/plain": [
       "1    116\n",
       "0     99\n",
       "Name: ssc_board, dtype: int64"
      ]
     },
     "execution_count": 59,
     "metadata": {},
     "output_type": "execute_result"
    }
   ],
   "source": [
    "df[\"ssc_board\"].replace({'Central': 1, 'Others': 0},inplace = True)\n",
    "df[\"ssc_board\"].value_counts()"
   ]
  },
  {
   "cell_type": "code",
   "execution_count": 60,
   "id": "1311d30a",
   "metadata": {},
   "outputs": [
    {
     "data": {
      "text/plain": [
       "{'Others': 131, 'Central': 84}"
      ]
     },
     "execution_count": 60,
     "metadata": {},
     "output_type": "execute_result"
    }
   ],
   "source": [
    "df[\"hsc_board\"].value_counts().to_dict()"
   ]
  },
  {
   "cell_type": "code",
   "execution_count": 61,
   "id": "61bab518",
   "metadata": {},
   "outputs": [
    {
     "data": {
      "text/plain": [
       "0    131\n",
       "1     84\n",
       "Name: hsc_board, dtype: int64"
      ]
     },
     "execution_count": 61,
     "metadata": {},
     "output_type": "execute_result"
    }
   ],
   "source": [
    "df[\"hsc_board\"].replace({'Others': 0, 'Central': 1},inplace = True)\n",
    "df[\"hsc_board\"].value_counts()"
   ]
  },
  {
   "cell_type": "code",
   "execution_count": 62,
   "id": "156559f3",
   "metadata": {},
   "outputs": [
    {
     "data": {
      "text/plain": [
       "{'Comm&Mgmt': 145, 'Sci&Tech': 59, 'Others': 11}"
      ]
     },
     "execution_count": 62,
     "metadata": {},
     "output_type": "execute_result"
    }
   ],
   "source": [
    "df[\"undergrad_degree\"].value_counts().to_dict()"
   ]
  },
  {
   "cell_type": "code",
   "execution_count": 63,
   "id": "3f9450bf",
   "metadata": {},
   "outputs": [],
   "source": [
    "df = pd.get_dummies(df, columns = [\"undergrad_degree\"])"
   ]
  },
  {
   "cell_type": "code",
   "execution_count": 64,
   "id": "4b403e5e",
   "metadata": {},
   "outputs": [
    {
     "data": {
      "text/plain": [
       "{'Commerce': 113, 'Science': 91, 'Arts': 11}"
      ]
     },
     "execution_count": 64,
     "metadata": {},
     "output_type": "execute_result"
    }
   ],
   "source": [
    "df[\"hsc_subject\"].value_counts().to_dict()"
   ]
  },
  {
   "cell_type": "code",
   "execution_count": 65,
   "id": "bd2430c9",
   "metadata": {},
   "outputs": [],
   "source": [
    "df = pd.get_dummies(df, columns = [\"hsc_subject\"])"
   ]
  },
  {
   "cell_type": "code",
   "execution_count": 66,
   "id": "8fb1e2cc",
   "metadata": {},
   "outputs": [
    {
     "data": {
      "text/plain": [
       "{'No': 141, 'Yes': 74}"
      ]
     },
     "execution_count": 66,
     "metadata": {},
     "output_type": "execute_result"
    }
   ],
   "source": [
    "df[\"work_experience\"].value_counts().to_dict()"
   ]
  },
  {
   "cell_type": "code",
   "execution_count": 67,
   "id": "bdaad21b",
   "metadata": {},
   "outputs": [
    {
     "data": {
      "text/plain": [
       "0    141\n",
       "1     74\n",
       "Name: work_experience, dtype: int64"
      ]
     },
     "execution_count": 67,
     "metadata": {},
     "output_type": "execute_result"
    }
   ],
   "source": [
    "df[\"work_experience\"].replace({'No': 0, 'Yes': 1}, inplace = True)\n",
    "df[\"work_experience\"].value_counts()"
   ]
  },
  {
   "cell_type": "code",
   "execution_count": 68,
   "id": "9d4a21c1",
   "metadata": {},
   "outputs": [
    {
     "data": {
      "text/plain": [
       "{'Mkt&Fin': 120, 'Mkt&HR': 95}"
      ]
     },
     "execution_count": 68,
     "metadata": {},
     "output_type": "execute_result"
    }
   ],
   "source": [
    "df[\"specialisation\"].value_counts().to_dict()"
   ]
  },
  {
   "cell_type": "code",
   "execution_count": 69,
   "id": "d4068b9a",
   "metadata": {},
   "outputs": [],
   "source": [
    "df[\"specialisation\"].replace({'Mkt&Fin': 1, 'Mkt&HR': 0}, inplace = True)"
   ]
  },
  {
   "cell_type": "code",
   "execution_count": 70,
   "id": "ac9668b8",
   "metadata": {},
   "outputs": [
    {
     "data": {
      "text/plain": [
       "{'Placed': 148, 'Not Placed': 67}"
      ]
     },
     "execution_count": 70,
     "metadata": {},
     "output_type": "execute_result"
    }
   ],
   "source": [
    "df[\"status\"].value_counts().to_dict()"
   ]
  },
  {
   "cell_type": "code",
   "execution_count": 71,
   "id": "938be234",
   "metadata": {},
   "outputs": [
    {
     "data": {
      "text/plain": [
       "1    148\n",
       "0     67\n",
       "Name: status, dtype: int64"
      ]
     },
     "execution_count": 71,
     "metadata": {},
     "output_type": "execute_result"
    }
   ],
   "source": [
    "df[\"status\"].replace({'Placed': 1, 'Not Placed': 0},inplace = True)\n",
    "df[\"status\"].value_counts()"
   ]
  },
  {
   "cell_type": "code",
   "execution_count": 72,
   "id": "edbf7fa0",
   "metadata": {},
   "outputs": [
    {
     "name": "stdout",
     "output_type": "stream",
     "text": [
      "<class 'pandas.core.frame.DataFrame'>\n",
      "RangeIndex: 215 entries, 0 to 214\n",
      "Data columns (total 17 columns):\n",
      " #   Column                      Non-Null Count  Dtype  \n",
      "---  ------                      --------------  -----  \n",
      " 0   gender                      215 non-null    int64  \n",
      " 1   ssc_percentage              215 non-null    float64\n",
      " 2   ssc_board                   215 non-null    int64  \n",
      " 3   hsc_percentage              215 non-null    float64\n",
      " 4   hsc_board                   215 non-null    int64  \n",
      " 5   degree_percentage           215 non-null    float64\n",
      " 6   work_experience             215 non-null    int64  \n",
      " 7   emp_test_percentage         215 non-null    float64\n",
      " 8   specialisation              215 non-null    int64  \n",
      " 9   mba_percent                 215 non-null    float64\n",
      " 10  status                      215 non-null    int64  \n",
      " 11  undergrad_degree_Comm&Mgmt  215 non-null    uint8  \n",
      " 12  undergrad_degree_Others     215 non-null    uint8  \n",
      " 13  undergrad_degree_Sci&Tech   215 non-null    uint8  \n",
      " 14  hsc_subject_Arts            215 non-null    uint8  \n",
      " 15  hsc_subject_Commerce        215 non-null    uint8  \n",
      " 16  hsc_subject_Science         215 non-null    uint8  \n",
      "dtypes: float64(5), int64(6), uint8(6)\n",
      "memory usage: 19.9 KB\n"
     ]
    }
   ],
   "source": [
    "df.info()"
   ]
  },
  {
   "cell_type": "code",
   "execution_count": 73,
   "id": "3f47b9d0",
   "metadata": {},
   "outputs": [
    {
     "data": {
      "text/plain": [
       "gender                        0\n",
       "ssc_percentage                0\n",
       "ssc_board                     0\n",
       "hsc_percentage                0\n",
       "hsc_board                     0\n",
       "degree_percentage             0\n",
       "work_experience               0\n",
       "emp_test_percentage           0\n",
       "specialisation                0\n",
       "mba_percent                   0\n",
       "status                        0\n",
       "undergrad_degree_Comm&Mgmt    0\n",
       "undergrad_degree_Others       0\n",
       "undergrad_degree_Sci&Tech     0\n",
       "hsc_subject_Arts              0\n",
       "hsc_subject_Commerce          0\n",
       "hsc_subject_Science           0\n",
       "dtype: int64"
      ]
     },
     "execution_count": 73,
     "metadata": {},
     "output_type": "execute_result"
    }
   ],
   "source": [
    "df.isna().sum()"
   ]
  },
  {
   "cell_type": "code",
   "execution_count": 74,
   "id": "8e274924",
   "metadata": {},
   "outputs": [],
   "source": [
    "x = df.drop(\"status\",axis = 1)\n",
    "y = df.status"
   ]
  },
  {
   "cell_type": "code",
   "execution_count": 75,
   "id": "3e1b7175",
   "metadata": {},
   "outputs": [
    {
     "data": {
      "text/plain": [
       "1    148\n",
       "0    118\n",
       "Name: status, dtype: int64"
      ]
     },
     "execution_count": 75,
     "metadata": {},
     "output_type": "execute_result"
    }
   ],
   "source": [
    "random_oversamp = RandomOverSampler(sampling_strategy= 0.8, random_state= 3)\n",
    "x_sampled,y_sampled = random_oversamp.fit_resample(x,y)\n",
    "y_sampled.value_counts()"
   ]
  },
  {
   "cell_type": "code",
   "execution_count": 76,
   "id": "9a0cf199",
   "metadata": {},
   "outputs": [
    {
     "data": {
      "text/plain": [
       "0.556390977443609"
      ]
     },
     "execution_count": 76,
     "metadata": {},
     "output_type": "execute_result"
    }
   ],
   "source": [
    "148/(118+148)"
   ]
  },
  {
   "cell_type": "code",
   "execution_count": 77,
   "id": "60bed1af",
   "metadata": {},
   "outputs": [],
   "source": [
    "x_train,x_test,y_train,y_test = train_test_split(x_sampled,y_sampled, test_size= 0.3, stratify= y_sampled, random_state= 11)\n"
   ]
  },
  {
   "cell_type": "markdown",
   "id": "59c9637f",
   "metadata": {},
   "source": [
    "### Model Evaluation"
   ]
  },
  {
   "cell_type": "code",
   "execution_count": 78,
   "id": "266fab1f",
   "metadata": {},
   "outputs": [
    {
     "name": "stderr",
     "output_type": "stream",
     "text": [
      "D:\\Program Installation\\lib\\site-packages\\sklearn\\linear_model\\_logistic.py:458: ConvergenceWarning: lbfgs failed to converge (status=1):\n",
      "STOP: TOTAL NO. of ITERATIONS REACHED LIMIT.\n",
      "\n",
      "Increase the number of iterations (max_iter) or scale the data as shown in:\n",
      "    https://scikit-learn.org/stable/modules/preprocessing.html\n",
      "Please also refer to the documentation for alternative solver options:\n",
      "    https://scikit-learn.org/stable/modules/linear_model.html#logistic-regression\n",
      "  n_iter_i = _check_optimize_result(\n"
     ]
    },
    {
     "data": {
      "text/html": [
       "<style>#sk-container-id-5 {color: black;background-color: white;}#sk-container-id-5 pre{padding: 0;}#sk-container-id-5 div.sk-toggleable {background-color: white;}#sk-container-id-5 label.sk-toggleable__label {cursor: pointer;display: block;width: 100%;margin-bottom: 0;padding: 0.3em;box-sizing: border-box;text-align: center;}#sk-container-id-5 label.sk-toggleable__label-arrow:before {content: \"▸\";float: left;margin-right: 0.25em;color: #696969;}#sk-container-id-5 label.sk-toggleable__label-arrow:hover:before {color: black;}#sk-container-id-5 div.sk-estimator:hover label.sk-toggleable__label-arrow:before {color: black;}#sk-container-id-5 div.sk-toggleable__content {max-height: 0;max-width: 0;overflow: hidden;text-align: left;background-color: #f0f8ff;}#sk-container-id-5 div.sk-toggleable__content pre {margin: 0.2em;color: black;border-radius: 0.25em;background-color: #f0f8ff;}#sk-container-id-5 input.sk-toggleable__control:checked~div.sk-toggleable__content {max-height: 200px;max-width: 100%;overflow: auto;}#sk-container-id-5 input.sk-toggleable__control:checked~label.sk-toggleable__label-arrow:before {content: \"▾\";}#sk-container-id-5 div.sk-estimator input.sk-toggleable__control:checked~label.sk-toggleable__label {background-color: #d4ebff;}#sk-container-id-5 div.sk-label input.sk-toggleable__control:checked~label.sk-toggleable__label {background-color: #d4ebff;}#sk-container-id-5 input.sk-hidden--visually {border: 0;clip: rect(1px 1px 1px 1px);clip: rect(1px, 1px, 1px, 1px);height: 1px;margin: -1px;overflow: hidden;padding: 0;position: absolute;width: 1px;}#sk-container-id-5 div.sk-estimator {font-family: monospace;background-color: #f0f8ff;border: 1px dotted black;border-radius: 0.25em;box-sizing: border-box;margin-bottom: 0.5em;}#sk-container-id-5 div.sk-estimator:hover {background-color: #d4ebff;}#sk-container-id-5 div.sk-parallel-item::after {content: \"\";width: 100%;border-bottom: 1px solid gray;flex-grow: 1;}#sk-container-id-5 div.sk-label:hover label.sk-toggleable__label {background-color: #d4ebff;}#sk-container-id-5 div.sk-serial::before {content: \"\";position: absolute;border-left: 1px solid gray;box-sizing: border-box;top: 0;bottom: 0;left: 50%;z-index: 0;}#sk-container-id-5 div.sk-serial {display: flex;flex-direction: column;align-items: center;background-color: white;padding-right: 0.2em;padding-left: 0.2em;position: relative;}#sk-container-id-5 div.sk-item {position: relative;z-index: 1;}#sk-container-id-5 div.sk-parallel {display: flex;align-items: stretch;justify-content: center;background-color: white;position: relative;}#sk-container-id-5 div.sk-item::before, #sk-container-id-5 div.sk-parallel-item::before {content: \"\";position: absolute;border-left: 1px solid gray;box-sizing: border-box;top: 0;bottom: 0;left: 50%;z-index: -1;}#sk-container-id-5 div.sk-parallel-item {display: flex;flex-direction: column;z-index: 1;position: relative;background-color: white;}#sk-container-id-5 div.sk-parallel-item:first-child::after {align-self: flex-end;width: 50%;}#sk-container-id-5 div.sk-parallel-item:last-child::after {align-self: flex-start;width: 50%;}#sk-container-id-5 div.sk-parallel-item:only-child::after {width: 0;}#sk-container-id-5 div.sk-dashed-wrapped {border: 1px dashed gray;margin: 0 0.4em 0.5em 0.4em;box-sizing: border-box;padding-bottom: 0.4em;background-color: white;}#sk-container-id-5 div.sk-label label {font-family: monospace;font-weight: bold;display: inline-block;line-height: 1.2em;}#sk-container-id-5 div.sk-label-container {text-align: center;}#sk-container-id-5 div.sk-container {/* jupyter's `normalize.less` sets `[hidden] { display: none; }` but bootstrap.min.css set `[hidden] { display: none !important; }` so we also need the `!important` here to be able to override the default hidden behavior on the sphinx rendered scikit-learn.org. See: https://github.com/scikit-learn/scikit-learn/issues/21755 */display: inline-block !important;position: relative;}#sk-container-id-5 div.sk-text-repr-fallback {display: none;}</style><div id=\"sk-container-id-5\" class=\"sk-top-container\"><div class=\"sk-text-repr-fallback\"><pre>LogisticRegression()</pre><b>In a Jupyter environment, please rerun this cell to show the HTML representation or trust the notebook. <br />On GitHub, the HTML representation is unable to render, please try loading this page with nbviewer.org.</b></div><div class=\"sk-container\" hidden><div class=\"sk-item\"><div class=\"sk-estimator sk-toggleable\"><input class=\"sk-toggleable__control sk-hidden--visually\" id=\"sk-estimator-id-5\" type=\"checkbox\" checked><label for=\"sk-estimator-id-5\" class=\"sk-toggleable__label sk-toggleable__label-arrow\">LogisticRegression</label><div class=\"sk-toggleable__content\"><pre>LogisticRegression()</pre></div></div></div></div></div>"
      ],
      "text/plain": [
       "LogisticRegression()"
      ]
     },
     "execution_count": 78,
     "metadata": {},
     "output_type": "execute_result"
    }
   ],
   "source": [
    "log_reg = LogisticRegression()\n",
    "log_reg.fit(x_train,y_train)"
   ]
  },
  {
   "cell_type": "code",
   "execution_count": 79,
   "id": "4c9dc9d2",
   "metadata": {},
   "outputs": [
    {
     "data": {
      "text/plain": [
       "0.8870967741935484"
      ]
     },
     "execution_count": 79,
     "metadata": {},
     "output_type": "execute_result"
    }
   ],
   "source": [
    "log_reg.score(x_train,y_train)"
   ]
  },
  {
   "cell_type": "code",
   "execution_count": 80,
   "id": "2c15fdb4",
   "metadata": {},
   "outputs": [
    {
     "data": {
      "text/plain": [
       "0.8625"
      ]
     },
     "execution_count": 80,
     "metadata": {},
     "output_type": "execute_result"
    }
   ],
   "source": [
    "log_reg.score(x_test,y_test)"
   ]
  },
  {
   "cell_type": "code",
   "execution_count": 81,
   "id": "059649d7",
   "metadata": {},
   "outputs": [
    {
     "data": {
      "text/plain": [
       "<sklearn.metrics._plot.confusion_matrix.ConfusionMatrixDisplay at 0x1ed622fcd00>"
      ]
     },
     "execution_count": 81,
     "metadata": {},
     "output_type": "execute_result"
    },
    {
     "data": {
      "image/png": "[encoded data removed]",
      "text/plain": [
       "<Figure size 640x480 with 2 Axes>"
      ]
     },
     "metadata": {},
     "output_type": "display_data"
    }
   ],
   "source": [
    "ConfusionMatrixDisplay.from_estimator(log_reg, x_train,y_train)"
   ]
  },
  {
   "cell_type": "code",
   "execution_count": 82,
   "id": "2575b769",
   "metadata": {},
   "outputs": [
    {
     "data": {
      "text/plain": [
       "<sklearn.metrics._plot.confusion_matrix.ConfusionMatrixDisplay at 0x1ed41372b30>"
      ]
     },
     "execution_count": 82,
     "metadata": {},
     "output_type": "execute_result"
    },
    {
     "data": {
      "image/png": "[encoded data removed]",
      "text/plain": [
       "<Figure size 640x480 with 2 Axes>"
      ]
     },
     "metadata": {},
     "output_type": "display_data"
    }
   ],
   "source": [
    "ConfusionMatrixDisplay.from_estimator(log_reg, x_test,y_test)"
   ]
  },
  {
   "cell_type": "markdown",
   "id": "02908962",
   "metadata": {},
   "source": [
    "### Training Data evaluation"
   ]
  },
  {
   "cell_type": "code",
   "execution_count": 83,
   "id": "dc822d12",
   "metadata": {},
   "outputs": [
    {
     "name": "stdout",
     "output_type": "stream",
     "text": [
      "Confusion Matrix :\n",
      " [[72 11]\n",
      " [10 93]]\n",
      "**************************************************\n",
      "Accuracy :  0.8870967741935484\n",
      "**************************************************\n",
      "Precision Score : 0.8942307692307693\n",
      "**************************************************\n",
      "Recall score : 0.9029126213592233\n",
      "**************************************************\n",
      "F1 Score  0.8985507246376813\n",
      "**************************************************\n",
      "Classification report :\n",
      "               precision    recall  f1-score   support\n",
      "\n",
      "           0       0.88      0.87      0.87        83\n",
      "           1       0.89      0.90      0.90       103\n",
      "\n",
      "    accuracy                           0.89       186\n",
      "   macro avg       0.89      0.89      0.89       186\n",
      "weighted avg       0.89      0.89      0.89       186\n",
      "\n"
     ]
    }
   ],
   "source": [
    "y_pred_train = log_reg.predict(x_train)\n",
    "\n",
    "cnf_mat = confusion_matrix(y_train,y_pred_train)\n",
    "print(\"Confusion Matrix :\\n\",cnf_mat)\n",
    "print(\"*\"*50)\n",
    "\n",
    "accuracy = accuracy_score(y_train,y_pred_train)\n",
    "print(\"Accuracy : \",accuracy)\n",
    "print(\"*\"*50)\n",
    "\n",
    "precision = precision_score(y_train, y_pred_train)\n",
    "print(\"Precision Score :\",precision)\n",
    "print(\"*\"*50)\n",
    "\n",
    "recall = recall_score(y_train,y_pred_train)\n",
    "print(\"Recall score :\",recall)\n",
    "print(\"*\"*50)\n",
    "\n",
    "f1 = f1_score(y_train, y_pred_train)\n",
    "print(\"F1 Score \", f1)\n",
    "print(\"*\"*50)\n",
    "\n",
    "clf_report = classification_report(y_train, y_pred_train)\n",
    "print(\"Classification report :\\n\",clf_report)"
   ]
  },
  {
   "cell_type": "markdown",
   "id": "f7a7aea6",
   "metadata": {},
   "source": [
    "### Test data Evaluation "
   ]
  },
  {
   "cell_type": "code",
   "execution_count": 84,
   "id": "5ef75a3d",
   "metadata": {},
   "outputs": [
    {
     "name": "stdout",
     "output_type": "stream",
     "text": [
      "Confusion Matrix :\n",
      " [[28  7]\n",
      " [ 4 41]]\n",
      "**************************************************\n",
      "Accuracy is : 0.8625\n",
      "**************************************************\n",
      "Classification Report :\n",
      "               precision    recall  f1-score   support\n",
      "\n",
      "           0       0.88      0.80      0.84        35\n",
      "           1       0.85      0.91      0.88        45\n",
      "\n",
      "    accuracy                           0.86        80\n",
      "   macro avg       0.86      0.86      0.86        80\n",
      "weighted avg       0.86      0.86      0.86        80\n",
      "\n",
      "**************************************************\n",
      "Prescision : 0.8541666666666666\n",
      "Recall : 0.9111111111111111\n",
      "F1 SCore :  0.8817204301075269\n"
     ]
    }
   ],
   "source": [
    "y_pred = log_reg.predict(x_test)\n",
    "\n",
    "cnf_mat = confusion_matrix(y_test,y_pred)\n",
    "print(\"Confusion Matrix :\\n\",cnf_mat)\n",
    "print(\"*\"*50)\n",
    "\n",
    "accuracy = accuracy_score(y_test,y_pred)\n",
    "print(\"Accuracy is :\",accuracy)\n",
    "print(\"*\"*50)\n",
    "\n",
    "clf_report = classification_report(y_test,y_pred)\n",
    "print(\"Classification Report :\\n\",clf_report)\n",
    "print(\"*\"*50)\n",
    "\n",
    "precision_val = precision_score(y_test,y_pred)\n",
    "print(\"Prescision :\",precision_val)\n",
    "\n",
    "recall_val = recall_score(y_test,y_pred)\n",
    "print(\"Recall :\",recall_val)\n",
    "\n",
    "f1_val = f1_score(y_test,y_pred)\n",
    "print(\"F1 SCore : \",f1_val)"
   ]
  },
  {
   "cell_type": "markdown",
   "id": "64e90cc4",
   "metadata": {},
   "source": [
    "### AUC ROC Curve"
   ]
  },
  {
   "cell_type": "code",
   "execution_count": 85,
   "id": "9190df86",
   "metadata": {},
   "outputs": [],
   "source": [
    "y_pred_train = log_reg.predict(x_train)\n",
    "y_pred_train_prob = log_reg.predict_proba(x_train)\n",
    "y_pred_train_prob_class1 = y_pred_train_prob[:,1]"
   ]
  },
  {
   "cell_type": "code",
   "execution_count": 86,
   "id": "b6ef573e",
   "metadata": {},
   "outputs": [],
   "source": [
    "fpr,tpr,threshold = roc_curve(y_train,y_pred_train_prob_class1)"
   ]
  },
  {
   "cell_type": "code",
   "execution_count": 87,
   "id": "3d8bfdf3",
   "metadata": {},
   "outputs": [
    {
     "data": {
      "text/plain": [
       "[<matplotlib.lines.Line2D at 0x1ed6865a740>]"
      ]
     },
     "execution_count": 87,
     "metadata": {},
     "output_type": "execute_result"
    },
    {
     "data": {
      "image/png": "[encoded data removed]",
      "text/plain": [
       "<Figure size 640x480 with 1 Axes>"
      ]
     },
     "metadata": {},
     "output_type": "display_data"
    }
   ],
   "source": [
    "plt.plot(fpr,tpr)\n"
   ]
  },
  {
   "cell_type": "markdown",
   "id": "caaa564f",
   "metadata": {},
   "source": [
    "### Regulation "
   ]
  },
  {
   "cell_type": "code",
   "execution_count": 88,
   "id": "734334c8",
   "metadata": {},
   "outputs": [
    {
     "data": {
      "text/html": [
       "<style>#sk-container-id-6 {color: black;background-color: white;}#sk-container-id-6 pre{padding: 0;}#sk-container-id-6 div.sk-toggleable {background-color: white;}#sk-container-id-6 label.sk-toggleable__label {cursor: pointer;display: block;width: 100%;margin-bottom: 0;padding: 0.3em;box-sizing: border-box;text-align: center;}#sk-container-id-6 label.sk-toggleable__label-arrow:before {content: \"▸\";float: left;margin-right: 0.25em;color: #696969;}#sk-container-id-6 label.sk-toggleable__label-arrow:hover:before {color: black;}#sk-container-id-6 div.sk-estimator:hover label.sk-toggleable__label-arrow:before {color: black;}#sk-container-id-6 div.sk-toggleable__content {max-height: 0;max-width: 0;overflow: hidden;text-align: left;background-color: #f0f8ff;}#sk-container-id-6 div.sk-toggleable__content pre {margin: 0.2em;color: black;border-radius: 0.25em;background-color: #f0f8ff;}#sk-container-id-6 input.sk-toggleable__control:checked~div.sk-toggleable__content {max-height: 200px;max-width: 100%;overflow: auto;}#sk-container-id-6 input.sk-toggleable__control:checked~label.sk-toggleable__label-arrow:before {content: \"▾\";}#sk-container-id-6 div.sk-estimator input.sk-toggleable__control:checked~label.sk-toggleable__label {background-color: #d4ebff;}#sk-container-id-6 div.sk-label input.sk-toggleable__control:checked~label.sk-toggleable__label {background-color: #d4ebff;}#sk-container-id-6 input.sk-hidden--visually {border: 0;clip: rect(1px 1px 1px 1px);clip: rect(1px, 1px, 1px, 1px);height: 1px;margin: -1px;overflow: hidden;padding: 0;position: absolute;width: 1px;}#sk-container-id-6 div.sk-estimator {font-family: monospace;background-color: #f0f8ff;border: 1px dotted black;border-radius: 0.25em;box-sizing: border-box;margin-bottom: 0.5em;}#sk-container-id-6 div.sk-estimator:hover {background-color: #d4ebff;}#sk-container-id-6 div.sk-parallel-item::after {content: \"\";width: 100%;border-bottom: 1px solid gray;flex-grow: 1;}#sk-container-id-6 div.sk-label:hover label.sk-toggleable__label {background-color: #d4ebff;}#sk-container-id-6 div.sk-serial::before {content: \"\";position: absolute;border-left: 1px solid gray;box-sizing: border-box;top: 0;bottom: 0;left: 50%;z-index: 0;}#sk-container-id-6 div.sk-serial {display: flex;flex-direction: column;align-items: center;background-color: white;padding-right: 0.2em;padding-left: 0.2em;position: relative;}#sk-container-id-6 div.sk-item {position: relative;z-index: 1;}#sk-container-id-6 div.sk-parallel {display: flex;align-items: stretch;justify-content: center;background-color: white;position: relative;}#sk-container-id-6 div.sk-item::before, #sk-container-id-6 div.sk-parallel-item::before {content: \"\";position: absolute;border-left: 1px solid gray;box-sizing: border-box;top: 0;bottom: 0;left: 50%;z-index: -1;}#sk-container-id-6 div.sk-parallel-item {display: flex;flex-direction: column;z-index: 1;position: relative;background-color: white;}#sk-container-id-6 div.sk-parallel-item:first-child::after {align-self: flex-end;width: 50%;}#sk-container-id-6 div.sk-parallel-item:last-child::after {align-self: flex-start;width: 50%;}#sk-container-id-6 div.sk-parallel-item:only-child::after {width: 0;}#sk-container-id-6 div.sk-dashed-wrapped {border: 1px dashed gray;margin: 0 0.4em 0.5em 0.4em;box-sizing: border-box;padding-bottom: 0.4em;background-color: white;}#sk-container-id-6 div.sk-label label {font-family: monospace;font-weight: bold;display: inline-block;line-height: 1.2em;}#sk-container-id-6 div.sk-label-container {text-align: center;}#sk-container-id-6 div.sk-container {/* jupyter's `normalize.less` sets `[hidden] { display: none; }` but bootstrap.min.css set `[hidden] { display: none !important; }` so we also need the `!important` here to be able to override the default hidden behavior on the sphinx rendered scikit-learn.org. See: https://github.com/scikit-learn/scikit-learn/issues/21755 */display: inline-block !important;position: relative;}#sk-container-id-6 div.sk-text-repr-fallback {display: none;}</style><div id=\"sk-container-id-6\" class=\"sk-top-container\"><div class=\"sk-text-repr-fallback\"><pre>RidgeClassifier(alpha=0.067)</pre><b>In a Jupyter environment, please rerun this cell to show the HTML representation or trust the notebook. <br />On GitHub, the HTML representation is unable to render, please try loading this page with nbviewer.org.</b></div><div class=\"sk-container\" hidden><div class=\"sk-item\"><div class=\"sk-estimator sk-toggleable\"><input class=\"sk-toggleable__control sk-hidden--visually\" id=\"sk-estimator-id-6\" type=\"checkbox\" checked><label for=\"sk-estimator-id-6\" class=\"sk-toggleable__label sk-toggleable__label-arrow\">RidgeClassifier</label><div class=\"sk-toggleable__content\"><pre>RidgeClassifier(alpha=0.067)</pre></div></div></div></div></div>"
      ],
      "text/plain": [
       "RidgeClassifier(alpha=0.067)"
      ]
     },
     "execution_count": 88,
     "metadata": {},
     "output_type": "execute_result"
    }
   ],
   "source": [
    "ridge_model = RidgeClassifier(alpha = 0.067)\n",
    "ridge_model.fit(x_train,y_train)\n"
   ]
  },
  {
   "cell_type": "code",
   "execution_count": 89,
   "id": "d94ed25a",
   "metadata": {},
   "outputs": [
    {
     "name": "stdout",
     "output_type": "stream",
     "text": [
      "Confusion Matrix :\n",
      " [[73 10]\n",
      " [ 6 97]]\n",
      "**************************************************\n",
      "Accuracy is : 0.9139784946236559\n",
      "**************************************************\n",
      "Classification Report :\n",
      "               precision    recall  f1-score   support\n",
      "\n",
      "           0       0.92      0.88      0.90        83\n",
      "           1       0.91      0.94      0.92       103\n",
      "\n",
      "    accuracy                           0.91       186\n",
      "   macro avg       0.92      0.91      0.91       186\n",
      "weighted avg       0.91      0.91      0.91       186\n",
      "\n",
      "**************************************************\n",
      "Precision : 0.9065420560747663\n",
      "Recall : 0.941747572815534\n",
      "F1 Score: 0.9238095238095239\n",
      "**************************************************\n"
     ]
    }
   ],
   "source": [
    "y_pred = ridge_model.predict(x_train)\n",
    "\n",
    "cnf_matrix = confusion_matrix(y_train, y_pred)\n",
    "print(\"Confusion Matrix :\\n\", cnf_matrix)\n",
    "print(\"*\"* 50)\n",
    "\n",
    "accuracy = accuracy_score(y_train, y_pred)\n",
    "print(\"Accuracy is :\",accuracy)\n",
    "print(\"*\"* 50)\n",
    "\n",
    "clf_report = classification_report(y_train, y_pred)\n",
    "print('Classification Report :\\n',clf_report)\n",
    "print(\"*\"* 50)\n",
    "\n",
    "precision_value = precision_score(y_train, y_pred)\n",
    "print(\"Precision :\",precision_value)\n",
    "\n",
    "recall_value = recall_score(y_train, y_pred)\n",
    "print('Recall :',recall_value)\n",
    "\n",
    "f1_value = f1_score(y_train, y_pred)\n",
    "print('F1 Score:',f1_value)\n",
    "print(\"*\"* 50)"
   ]
  },
  {
   "cell_type": "code",
   "execution_count": 90,
   "id": "855c7db8",
   "metadata": {},
   "outputs": [
    {
     "name": "stdout",
     "output_type": "stream",
     "text": [
      "Confusion Matrix :\n",
      " [[32  3]\n",
      " [ 8 37]]\n",
      "**************************************************\n",
      "Accuracy is : 0.8625\n",
      "**************************************************\n",
      "Classification Report :\n",
      "               precision    recall  f1-score   support\n",
      "\n",
      "           0       0.80      0.91      0.85        35\n",
      "           1       0.93      0.82      0.87        45\n",
      "\n",
      "    accuracy                           0.86        80\n",
      "   macro avg       0.86      0.87      0.86        80\n",
      "weighted avg       0.87      0.86      0.86        80\n",
      "\n",
      "**************************************************\n",
      "Precision : 0.925\n",
      "Recall : 0.8222222222222222\n",
      "F1 Score: 0.8705882352941177\n",
      "**************************************************\n"
     ]
    }
   ],
   "source": [
    "y_pred_test = ridge_model.predict(x_test)\n",
    "\n",
    "cnf_matrix = confusion_matrix(y_test, y_pred_test)\n",
    "print(\"Confusion Matrix :\\n\", cnf_matrix)\n",
    "print(\"*\"* 50)\n",
    "\n",
    "accuracy = accuracy_score(y_test, y_pred_test)\n",
    "print(\"Accuracy is :\",accuracy)\n",
    "print(\"*\"* 50)\n",
    "\n",
    "clf_report = classification_report(y_test, y_pred_test)\n",
    "print('Classification Report :\\n',clf_report)\n",
    "print(\"*\"* 50)\n",
    "\n",
    "precision_value = precision_score(y_test, y_pred_test)\n",
    "print(\"Precision :\",precision_value)\n",
    "\n",
    "recall_value = recall_score(y_test, y_pred_test)\n",
    "print('Recall :',recall_value)\n",
    "\n",
    "f1_value = f1_score(y_test, y_pred_test)\n",
    "print('F1 Score:',f1_value)\n",
    "print(\"*\"* 50)"
   ]
  },
  {
   "cell_type": "markdown",
   "id": "e2e61136",
   "metadata": {},
   "source": [
    "### L1 Regularization"
   ]
  },
  {
   "cell_type": "code",
   "execution_count": 91,
   "id": "e75f1405",
   "metadata": {},
   "outputs": [
    {
     "data": {
      "text/html": [
       "<style>#sk-container-id-7 {color: black;background-color: white;}#sk-container-id-7 pre{padding: 0;}#sk-container-id-7 div.sk-toggleable {background-color: white;}#sk-container-id-7 label.sk-toggleable__label {cursor: pointer;display: block;width: 100%;margin-bottom: 0;padding: 0.3em;box-sizing: border-box;text-align: center;}#sk-container-id-7 label.sk-toggleable__label-arrow:before {content: \"▸\";float: left;margin-right: 0.25em;color: #696969;}#sk-container-id-7 label.sk-toggleable__label-arrow:hover:before {color: black;}#sk-container-id-7 div.sk-estimator:hover label.sk-toggleable__label-arrow:before {color: black;}#sk-container-id-7 div.sk-toggleable__content {max-height: 0;max-width: 0;overflow: hidden;text-align: left;background-color: #f0f8ff;}#sk-container-id-7 div.sk-toggleable__content pre {margin: 0.2em;color: black;border-radius: 0.25em;background-color: #f0f8ff;}#sk-container-id-7 input.sk-toggleable__control:checked~div.sk-toggleable__content {max-height: 200px;max-width: 100%;overflow: auto;}#sk-container-id-7 input.sk-toggleable__control:checked~label.sk-toggleable__label-arrow:before {content: \"▾\";}#sk-container-id-7 div.sk-estimator input.sk-toggleable__control:checked~label.sk-toggleable__label {background-color: #d4ebff;}#sk-container-id-7 div.sk-label input.sk-toggleable__control:checked~label.sk-toggleable__label {background-color: #d4ebff;}#sk-container-id-7 input.sk-hidden--visually {border: 0;clip: rect(1px 1px 1px 1px);clip: rect(1px, 1px, 1px, 1px);height: 1px;margin: -1px;overflow: hidden;padding: 0;position: absolute;width: 1px;}#sk-container-id-7 div.sk-estimator {font-family: monospace;background-color: #f0f8ff;border: 1px dotted black;border-radius: 0.25em;box-sizing: border-box;margin-bottom: 0.5em;}#sk-container-id-7 div.sk-estimator:hover {background-color: #d4ebff;}#sk-container-id-7 div.sk-parallel-item::after {content: \"\";width: 100%;border-bottom: 1px solid gray;flex-grow: 1;}#sk-container-id-7 div.sk-label:hover label.sk-toggleable__label {background-color: #d4ebff;}#sk-container-id-7 div.sk-serial::before {content: \"\";position: absolute;border-left: 1px solid gray;box-sizing: border-box;top: 0;bottom: 0;left: 50%;z-index: 0;}#sk-container-id-7 div.sk-serial {display: flex;flex-direction: column;align-items: center;background-color: white;padding-right: 0.2em;padding-left: 0.2em;position: relative;}#sk-container-id-7 div.sk-item {position: relative;z-index: 1;}#sk-container-id-7 div.sk-parallel {display: flex;align-items: stretch;justify-content: center;background-color: white;position: relative;}#sk-container-id-7 div.sk-item::before, #sk-container-id-7 div.sk-parallel-item::before {content: \"\";position: absolute;border-left: 1px solid gray;box-sizing: border-box;top: 0;bottom: 0;left: 50%;z-index: -1;}#sk-container-id-7 div.sk-parallel-item {display: flex;flex-direction: column;z-index: 1;position: relative;background-color: white;}#sk-container-id-7 div.sk-parallel-item:first-child::after {align-self: flex-end;width: 50%;}#sk-container-id-7 div.sk-parallel-item:last-child::after {align-self: flex-start;width: 50%;}#sk-container-id-7 div.sk-parallel-item:only-child::after {width: 0;}#sk-container-id-7 div.sk-dashed-wrapped {border: 1px dashed gray;margin: 0 0.4em 0.5em 0.4em;box-sizing: border-box;padding-bottom: 0.4em;background-color: white;}#sk-container-id-7 div.sk-label label {font-family: monospace;font-weight: bold;display: inline-block;line-height: 1.2em;}#sk-container-id-7 div.sk-label-container {text-align: center;}#sk-container-id-7 div.sk-container {/* jupyter's `normalize.less` sets `[hidden] { display: none; }` but bootstrap.min.css set `[hidden] { display: none !important; }` so we also need the `!important` here to be able to override the default hidden behavior on the sphinx rendered scikit-learn.org. See: https://github.com/scikit-learn/scikit-learn/issues/21755 */display: inline-block !important;position: relative;}#sk-container-id-7 div.sk-text-repr-fallback {display: none;}</style><div id=\"sk-container-id-7\" class=\"sk-top-container\"><div class=\"sk-text-repr-fallback\"><pre>LogisticRegression(penalty=&#x27;l1&#x27;, solver=&#x27;liblinear&#x27;)</pre><b>In a Jupyter environment, please rerun this cell to show the HTML representation or trust the notebook. <br />On GitHub, the HTML representation is unable to render, please try loading this page with nbviewer.org.</b></div><div class=\"sk-container\" hidden><div class=\"sk-item\"><div class=\"sk-estimator sk-toggleable\"><input class=\"sk-toggleable__control sk-hidden--visually\" id=\"sk-estimator-id-7\" type=\"checkbox\" checked><label for=\"sk-estimator-id-7\" class=\"sk-toggleable__label sk-toggleable__label-arrow\">LogisticRegression</label><div class=\"sk-toggleable__content\"><pre>LogisticRegression(penalty=&#x27;l1&#x27;, solver=&#x27;liblinear&#x27;)</pre></div></div></div></div></div>"
      ],
      "text/plain": [
       "LogisticRegression(penalty='l1', solver='liblinear')"
      ]
     },
     "execution_count": 91,
     "metadata": {},
     "output_type": "execute_result"
    }
   ],
   "source": [
    "log_reg_model = LogisticRegression(penalty='l1', solver='liblinear',C = 1.0)\n",
    "log_reg_model.fit(x_train, y_train)"
   ]
  },
  {
   "cell_type": "code",
   "execution_count": 92,
   "id": "6158bec7",
   "metadata": {},
   "outputs": [
    {
     "name": "stdout",
     "output_type": "stream",
     "text": [
      "Confusion Matrix :\n",
      " [[71 12]\n",
      " [ 7 96]]\n",
      "**************************************************\n",
      "Accuracy is : 0.8978494623655914\n",
      "**************************************************\n",
      "Classification Report :\n",
      "               precision    recall  f1-score   support\n",
      "\n",
      "           0       0.91      0.86      0.88        83\n",
      "           1       0.89      0.93      0.91       103\n",
      "\n",
      "    accuracy                           0.90       186\n",
      "   macro avg       0.90      0.89      0.90       186\n",
      "weighted avg       0.90      0.90      0.90       186\n",
      "\n",
      "**************************************************\n",
      "Precision : 0.8888888888888888\n",
      "Recall : 0.9320388349514563\n",
      "F1 Score: 0.909952606635071\n",
      "**************************************************\n"
     ]
    }
   ],
   "source": [
    "## Evaluation on Training Dataset\n",
    "\n",
    "y_pred_train = log_reg_model.predict(x_train)\n",
    "\n",
    "cnf_matrix = confusion_matrix(y_train, y_pred_train)\n",
    "print(\"Confusion Matrix :\\n\", cnf_matrix)\n",
    "print(\"*\"* 50)\n",
    "\n",
    "accuracy = accuracy_score(y_train, y_pred_train)\n",
    "print(\"Accuracy is :\",accuracy)\n",
    "print(\"*\"* 50)\n",
    "\n",
    "clf_report = classification_report(y_train, y_pred_train)\n",
    "print('Classification Report :\\n',clf_report)\n",
    "print(\"*\"* 50)\n",
    "\n",
    "precision_value = precision_score(y_train, y_pred_train)\n",
    "print(\"Precision :\",precision_value)\n",
    "\n",
    "recall_value = recall_score(y_train, y_pred_train)\n",
    "print('Recall :',recall_value)\n",
    "\n",
    "f1_value = f1_score(y_train, y_pred_train)\n",
    "print('F1 Score:',f1_value)\n",
    "print(\"*\"* 50)"
   ]
  },
  {
   "cell_type": "code",
   "execution_count": 93,
   "id": "5d265afd",
   "metadata": {},
   "outputs": [
    {
     "name": "stdout",
     "output_type": "stream",
     "text": [
      "Confusion Matrix :\n",
      " [[31  4]\n",
      " [ 4 41]]\n",
      "**************************************************\n",
      "Accuracy is : 0.9\n",
      "**************************************************\n",
      "Classification Report :\n",
      "               precision    recall  f1-score   support\n",
      "\n",
      "           0       0.89      0.89      0.89        35\n",
      "           1       0.91      0.91      0.91        45\n",
      "\n",
      "    accuracy                           0.90        80\n",
      "   macro avg       0.90      0.90      0.90        80\n",
      "weighted avg       0.90      0.90      0.90        80\n",
      "\n",
      "**************************************************\n",
      "Precision : 0.9111111111111111\n",
      "Recall : 0.9111111111111111\n",
      "F1 Score: 0.9111111111111111\n",
      "**************************************************\n"
     ]
    }
   ],
   "source": [
    "# Evaluation on Testing Dataset\n",
    "\n",
    "y_pred = log_reg_model.predict(x_test)\n",
    "\n",
    "cnf_matrix = confusion_matrix(y_test, y_pred)\n",
    "print(\"Confusion Matrix :\\n\", cnf_matrix)\n",
    "print(\"*\"* 50)\n",
    "\n",
    "accuracy = accuracy_score(y_test, y_pred)\n",
    "print(\"Accuracy is :\",accuracy)\n",
    "print(\"*\"* 50)\n",
    "\n",
    "clf_report = classification_report(y_test, y_pred)\n",
    "print('Classification Report :\\n',clf_report)\n",
    "print(\"*\"* 50)\n",
    "\n",
    "precision_value = precision_score(y_test, y_pred)\n",
    "print(\"Precision :\",precision_value)\n",
    "\n",
    "recall_value = recall_score(y_test, y_pred)\n",
    "print('Recall :',recall_value)\n",
    "\n",
    "f1_value = f1_score(y_test, y_pred)\n",
    "print('F1 Score:',f1_value)\n",
    "print(\"*\"* 50)"
   ]
  },
  {
   "cell_type": "markdown",
   "id": "618eef38",
   "metadata": {},
   "source": [
    "### KNN Classifier"
   ]
  },
  {
   "cell_type": "code",
   "execution_count": 94,
   "id": "43c4b480",
   "metadata": {},
   "outputs": [
    {
     "data": {
      "text/html": [
       "<style>#sk-container-id-8 {color: black;background-color: white;}#sk-container-id-8 pre{padding: 0;}#sk-container-id-8 div.sk-toggleable {background-color: white;}#sk-container-id-8 label.sk-toggleable__label {cursor: pointer;display: block;width: 100%;margin-bottom: 0;padding: 0.3em;box-sizing: border-box;text-align: center;}#sk-container-id-8 label.sk-toggleable__label-arrow:before {content: \"▸\";float: left;margin-right: 0.25em;color: #696969;}#sk-container-id-8 label.sk-toggleable__label-arrow:hover:before {color: black;}#sk-container-id-8 div.sk-estimator:hover label.sk-toggleable__label-arrow:before {color: black;}#sk-container-id-8 div.sk-toggleable__content {max-height: 0;max-width: 0;overflow: hidden;text-align: left;background-color: #f0f8ff;}#sk-container-id-8 div.sk-toggleable__content pre {margin: 0.2em;color: black;border-radius: 0.25em;background-color: #f0f8ff;}#sk-container-id-8 input.sk-toggleable__control:checked~div.sk-toggleable__content {max-height: 200px;max-width: 100%;overflow: auto;}#sk-container-id-8 input.sk-toggleable__control:checked~label.sk-toggleable__label-arrow:before {content: \"▾\";}#sk-container-id-8 div.sk-estimator input.sk-toggleable__control:checked~label.sk-toggleable__label {background-color: #d4ebff;}#sk-container-id-8 div.sk-label input.sk-toggleable__control:checked~label.sk-toggleable__label {background-color: #d4ebff;}#sk-container-id-8 input.sk-hidden--visually {border: 0;clip: rect(1px 1px 1px 1px);clip: rect(1px, 1px, 1px, 1px);height: 1px;margin: -1px;overflow: hidden;padding: 0;position: absolute;width: 1px;}#sk-container-id-8 div.sk-estimator {font-family: monospace;background-color: #f0f8ff;border: 1px dotted black;border-radius: 0.25em;box-sizing: border-box;margin-bottom: 0.5em;}#sk-container-id-8 div.sk-estimator:hover {background-color: #d4ebff;}#sk-container-id-8 div.sk-parallel-item::after {content: \"\";width: 100%;border-bottom: 1px solid gray;flex-grow: 1;}#sk-container-id-8 div.sk-label:hover label.sk-toggleable__label {background-color: #d4ebff;}#sk-container-id-8 div.sk-serial::before {content: \"\";position: absolute;border-left: 1px solid gray;box-sizing: border-box;top: 0;bottom: 0;left: 50%;z-index: 0;}#sk-container-id-8 div.sk-serial {display: flex;flex-direction: column;align-items: center;background-color: white;padding-right: 0.2em;padding-left: 0.2em;position: relative;}#sk-container-id-8 div.sk-item {position: relative;z-index: 1;}#sk-container-id-8 div.sk-parallel {display: flex;align-items: stretch;justify-content: center;background-color: white;position: relative;}#sk-container-id-8 div.sk-item::before, #sk-container-id-8 div.sk-parallel-item::before {content: \"\";position: absolute;border-left: 1px solid gray;box-sizing: border-box;top: 0;bottom: 0;left: 50%;z-index: -1;}#sk-container-id-8 div.sk-parallel-item {display: flex;flex-direction: column;z-index: 1;position: relative;background-color: white;}#sk-container-id-8 div.sk-parallel-item:first-child::after {align-self: flex-end;width: 50%;}#sk-container-id-8 div.sk-parallel-item:last-child::after {align-self: flex-start;width: 50%;}#sk-container-id-8 div.sk-parallel-item:only-child::after {width: 0;}#sk-container-id-8 div.sk-dashed-wrapped {border: 1px dashed gray;margin: 0 0.4em 0.5em 0.4em;box-sizing: border-box;padding-bottom: 0.4em;background-color: white;}#sk-container-id-8 div.sk-label label {font-family: monospace;font-weight: bold;display: inline-block;line-height: 1.2em;}#sk-container-id-8 div.sk-label-container {text-align: center;}#sk-container-id-8 div.sk-container {/* jupyter's `normalize.less` sets `[hidden] { display: none; }` but bootstrap.min.css set `[hidden] { display: none !important; }` so we also need the `!important` here to be able to override the default hidden behavior on the sphinx rendered scikit-learn.org. See: https://github.com/scikit-learn/scikit-learn/issues/21755 */display: inline-block !important;position: relative;}#sk-container-id-8 div.sk-text-repr-fallback {display: none;}</style><div id=\"sk-container-id-8\" class=\"sk-top-container\"><div class=\"sk-text-repr-fallback\"><pre>KNeighborsClassifier()</pre><b>In a Jupyter environment, please rerun this cell to show the HTML representation or trust the notebook. <br />On GitHub, the HTML representation is unable to render, please try loading this page with nbviewer.org.</b></div><div class=\"sk-container\" hidden><div class=\"sk-item\"><div class=\"sk-estimator sk-toggleable\"><input class=\"sk-toggleable__control sk-hidden--visually\" id=\"sk-estimator-id-8\" type=\"checkbox\" checked><label for=\"sk-estimator-id-8\" class=\"sk-toggleable__label sk-toggleable__label-arrow\">KNeighborsClassifier</label><div class=\"sk-toggleable__content\"><pre>KNeighborsClassifier()</pre></div></div></div></div></div>"
      ],
      "text/plain": [
       "KNeighborsClassifier()"
      ]
     },
     "execution_count": 94,
     "metadata": {},
     "output_type": "execute_result"
    }
   ],
   "source": [
    "knn_clf = KNeighborsClassifier(n_neighbors= 5 , p = 2)\n",
    "knn_clf.fit(x_train, y_train)"
   ]
  },
  {
   "cell_type": "code",
   "execution_count": 95,
   "id": "50086b38",
   "metadata": {},
   "outputs": [
    {
     "name": "stdout",
     "output_type": "stream",
     "text": [
      "Confusion Matrix :\n",
      " [[71 12]\n",
      " [12 91]]\n",
      "Accuracy : 0.8709677419354839\n",
      "Classification Report :\n",
      "               precision    recall  f1-score   support\n",
      "\n",
      "           0       0.86      0.86      0.86        83\n",
      "           1       0.88      0.88      0.88       103\n",
      "\n",
      "    accuracy                           0.87       186\n",
      "   macro avg       0.87      0.87      0.87       186\n",
      "weighted avg       0.87      0.87      0.87       186\n",
      "\n"
     ]
    }
   ],
   "source": [
    "# Training Data Evaluation\n",
    "\n",
    "y_pred_train = knn_clf.predict(x_train)\n",
    "\n",
    "cnf_matrix = confusion_matrix(y_train, y_pred_train)\n",
    "print(\"Confusion Matrix :\\n\", cnf_matrix)\n",
    "\n",
    "accuracy = accuracy_score(y_train, y_pred_train)\n",
    "print(\"Accuracy :\", accuracy)\n",
    "\n",
    "clf_report = classification_report(y_train, y_pred_train)\n",
    "print(\"Classification Report :\\n\", clf_report)"
   ]
  },
  {
   "cell_type": "code",
   "execution_count": 96,
   "id": "8031ac6d",
   "metadata": {},
   "outputs": [
    {
     "name": "stdout",
     "output_type": "stream",
     "text": [
      "Confusion Matrix :\n",
      " [[30  5]\n",
      " [ 9 36]]\n",
      "Accuracy : 0.825\n",
      "Classification Report :\n",
      "               precision    recall  f1-score   support\n",
      "\n",
      "           0       0.77      0.86      0.81        35\n",
      "           1       0.88      0.80      0.84        45\n",
      "\n",
      "    accuracy                           0.82        80\n",
      "   macro avg       0.82      0.83      0.82        80\n",
      "weighted avg       0.83      0.82      0.83        80\n",
      "\n"
     ]
    }
   ],
   "source": [
    "# Testing Data Evaluation\n",
    "\n",
    "y_pred = knn_clf.predict(x_test)\n",
    "\n",
    "cnf_matrix = confusion_matrix(y_test, y_pred)\n",
    "print(\"Confusion Matrix :\\n\", cnf_matrix)\n",
    "\n",
    "accuracy = accuracy_score(y_test, y_pred)\n",
    "print(\"Accuracy :\", accuracy)\n",
    "\n",
    "clf_report = classification_report(y_test, y_pred)\n",
    "print(\"Classification Report :\\n\", clf_report)"
   ]
  },
  {
   "cell_type": "markdown",
   "id": "c195de78",
   "metadata": {},
   "source": [
    "### Save Required Data"
   ]
  },
  {
   "cell_type": "markdown",
   "id": "d2e1b5ac",
   "metadata": {},
   "source": [
    "#### 1. Model"
   ]
  },
  {
   "cell_type": "code",
   "execution_count": 97,
   "id": "66e77ce0",
   "metadata": {},
   "outputs": [],
   "source": [
    "# with open(r\"artifacts/logistic_model.pkl\", \"wb\") as f:\n",
    "#     pickle.dump(log_reg,f)\n",
    "    "
   ]
  },
  {
   "cell_type": "code",
   "execution_count": 98,
   "id": "c9b1eb76",
   "metadata": {},
   "outputs": [],
   "source": [
    "# with open(r\"artifacts/ridge_model.pkl\", \"wb\") as f:\n",
    "#     pickle.dump(ridge_model, f)"
   ]
  },
  {
   "cell_type": "code",
   "execution_count": 99,
   "id": "3788f2ef",
   "metadata": {},
   "outputs": [],
   "source": [
    "with open(r\"artifacts/lasso_model.pkl\",\"wb\") as f:\n",
    "    pickle.dump(log_reg_model,f)"
   ]
  },
  {
   "cell_type": "code",
   "execution_count": 100,
   "id": "a74e4448",
   "metadata": {},
   "outputs": [],
   "source": [
    "# with open(r\"artifacts/knn_reg_model.pkl\",\"wb\") as f:\n",
    "#     pickle.dump(knn_clf,f)"
   ]
  },
  {
   "cell_type": "markdown",
   "id": "b8ae8b4f",
   "metadata": {},
   "source": [
    "### 2. Save Column Names"
   ]
  },
  {
   "cell_type": "code",
   "execution_count": 101,
   "id": "651ca706",
   "metadata": {},
   "outputs": [],
   "source": [
    "column_names = x.columns\n",
    "project_data = {\"Column Names\" : column_names.to_list(),\n",
    "               \"Gender\" : {'M': 1, 'F': 0},\n",
    "               \"SSC_Board\":{'Central': 1, 'Others': 0},\n",
    "               \"HSC_Board\" : {'Central': 1, 'Others': 0},\n",
    "               \"Work_experience\" : {'No': 0, 'Yes': 1},\n",
    "               \"Specialisation\" : {'Mkt&Fin': 1, 'Mkt&HR': 0}}\n",
    "with open(r\"artifacts/project_data.json\", \"w\") as f:\n",
    "    json.dump(project_data, f)"
   ]
  },
  {
   "cell_type": "code",
   "execution_count": null,
   "id": "43bfbf7b",
   "metadata": {},
   "outputs": [],
   "source": []
  },
  {
   "cell_type": "code",
   "execution_count": null,
   "id": "f8bedf6c",
   "metadata": {},
   "outputs": [],
   "source": []
  }
 ],
 "metadata": {
  "kernelspec": {
   "display_name": "Python 3 (ipykernel)",
   "language": "python",
   "name": "python3"
  },
  "language_info": {
   "codemirror_mode": {
    "name": "ipython",
    "version": 3
   },
   "file_extension": ".py",
   "mimetype": "text/x-python",
   "name": "python",
   "nbconvert_exporter": "python",
   "pygments_lexer": "ipython3",
   "version": "3.10.8"
  },
  "vscode": {
   "interpreter": {
    "hash": "3a5a64963f1d8086c73599a843351255718e26b05cf7863ef40007ba6e3bda11"
   }
  }
 },
 "nbformat": 4,
 "nbformat_minor": 5
}
